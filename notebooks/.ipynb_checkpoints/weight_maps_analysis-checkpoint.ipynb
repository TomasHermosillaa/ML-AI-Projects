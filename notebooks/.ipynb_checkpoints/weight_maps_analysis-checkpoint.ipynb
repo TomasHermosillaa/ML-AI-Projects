{
 "cells": [
  {
   "cell_type": "markdown",
   "metadata": {},
   "source": [
    "# Análisis de Mapas de Peso y Bordes para Segmentación de Núcleos\n",
    "\n",
    "Este notebook implementa y analiza:\n",
    "1. Detección de bordes usando operaciones morfológicas\n",
    "2. Generación de mapas de peso para enfatizar bordes y compensar desbalance de clases\n",
    "3. Visualización de resultados en muestras del dataset"
   ]
  },
  {
   "cell_type": "code",
   "execution_count": null,
   "metadata": {},
   "source": [
    "import os\n",
    "import sys\n",
    "import numpy as np\n",
    "import matplotlib.pyplot as plt\n",
    "from skimage import io, morphology, segmentation\n",
    "import cv2\n",
    "from tqdm.notebook import tqdm\n",
    "\n",
    "# Añadir directorio raíz al path para importar módulos propios\n",
    "sys.path.append('..')\n",
    "from src.weight_maps import (\n",
    "    detect_edges,\n",
    "    detect_inner_edges,\n",
    "    generate_weight_map,\n",
    "    visualize_weight_map\n",
    ")"
   ]
  },
  {
   "cell_type": "markdown",
   "metadata": {},
   "source": [
    "## 1. Carga de Datos\n",
    "\n",
    "Primero, vamos a cargar algunas imágenes y máscaras para analizar."
   ]
  },
  {
   "cell_type": "code",
   "execution_count": null,
   "metadata": {},
   "source": [
    "# Directorio raíz del dataset\n",
    "data_dir = '../data'\n",
    "\n",
    "# Función para cargar imagen y máscara por ID\n",
    "def load_sample(sample_id):\n",
    "    \"\"\"Carga una imagen y su máscara correspondiente.\"\"\"\n",
    "    # Construir rutas\n",
    "    id_str = str(sample_id).zfill(5)\n",
    "    img_path = os.path.join(data_dir, id_str, 'image.png')\n",
    "    mask_path = os.path.join(data_dir, id_str, 'mask.png')\n",
    "    \n",
    "    # Verificar si las rutas existen\n",
    "    if not os.path.exists(img_path) or not os.path.exists(mask_path):\n",
    "        print(f\"La imagen o máscara para ID {sample_id} no existe\")\n",
    "        return None, None\n",
    "    \n",
    "    # Cargar imagen y máscara\n",
    "    image = io.imread(img_path)\n",
    "    mask = io.imread(mask_path)\n",
    "    \n",
    "    return image, mask\n",
    "\n",
    "# Cargar algunas muestras para análisis\n",
    "# Elegimos algunos IDs de imágenes con núcleos que se tocan (basado en análisis exploratorio)\n",
    "sample_ids = [1, 2, 3, 4]  # Podemos ajustar estos IDs según imágenes interesantes\n",
    "\n",
    "samples = []\n",
    "for sample_id in sample_ids:\n",
    "    img, mask = load_sample(sample_id)\n",
    "    if img is not None and mask is not None:\n",
    "        samples.append((sample_id, img, mask))\n",
    "\n",
    "print(f\"Se cargaron {len(samples)} muestras\")"
   ]
  },
  {
   "cell_type": "markdown",
   "metadata": {},
   "source": [
    "## 2. Análisis del Desbalance de Clases\n",
    "\n",
    "Verificamos el desbalance entre píxeles de fondo y núcleo en nuestras muestras."
   ]
  },
  {
   "cell_type": "code",
   "execution_count": null,
   "metadata": {},
   "source": [
    "# Calcular estadísticas de desbalance para cada muestra\n",
    "for sample_id, img, mask in samples:\n",
    "    # Normalizar máscara\n",
    "    mask_binary = mask.copy()\n",
    "    if mask_binary.max() > 1:\n",
    "        mask_binary = mask_binary / 255\n",
    "    \n",
    "    # Calcular porcentajes\n",
    "    foreground_ratio = np.mean(mask_binary)\n",
    "    foreground_percent = foreground_ratio * 100\n",
    "    background_percent = (1 - foreground_ratio) * 100\n",
    "    \n",
    "    print(f\"Muestra {sample_id}:\")\n",
    "    print(f\"  - Píxeles de núcleo: {foreground_percent:.2f}%\")\n",
    "    print(f\"  - Píxeles de fondo:  {background_percent:.2f}%\")\n",
    "    print(f\"  - Ratio núcleo/fondo: 1:{background_percent/foreground_percent:.2f}\")"
   ]
  },
  {
   "cell_type": "markdown",
   "metadata": {},
   "source": [
    "## 3. Detección de Bordes\n",
    "\n",
    "Detectamos y visualizamos bordes en las máscaras, prestando especial atención a los bordes entre núcleos."
   ]
  },
  {
   "cell_type": "code",
   "execution_count": null,
   "metadata": {},
   "source": [
    "# Analizar y visualizar bordes para cada muestra\n",
    "for sample_id, img, mask in samples:\n",
    "    # Normalizar máscara\n",
    "    mask_binary = mask.copy()\n",
    "    if mask_binary.max() > 1:\n",
    "        mask_binary = mask_binary / 255\n",
    "    \n",
    "    # Detectar todos los bordes y bordes internos\n",
    "    edges = detect_edges(mask_binary)\n",
    "    inner_edges = detect_inner_edges(mask_binary)\n",
    "    \n",
    "    # Calcular estadísticas de bordes\n",
    "    total_edge_pixels = edges.sum()\n",
    "    inner_edge_pixels = inner_edges.sum()\n",
    "    inner_edge_ratio = inner_edge_pixels / total_edge_pixels if total_edge_pixels > 0 else 0\n",
    "    \n",
    "    print(f\"Muestra {sample_id}:\")\n",
    "    print(f\"  - Total píxeles de borde: {total_edge_pixels}\")\n",
    "    print(f\"  - Píxeles de borde interno: {inner_edge_pixels} ({inner_edge_ratio*100:.2f}% del total)\")\n",
    "    \n",
    "    # Visualizar\n",
    "    fig, axes = plt.subplots(1, 3, figsize=(15, 5))\n",
    "    \n",
    "    # Imagen original con máscara superpuesta\n",
    "    axes[0].imshow(img)\n",
    "    mask_overlay = np.zeros_like(img, dtype=np.float32)\n",
    "    if len(mask_overlay.shape) == 3:  # RGB\n",
    "        mask_overlay[:, :, 1] = mask_binary * 0.5  # Verde semitransparente\n",
    "    axes[0].imshow(mask_overlay, alpha=0.5)\n",
    "    axes[0].set_title(f'Muestra {sample_id}')\n",
    "    axes[0].axis('off')\n",
    "    \n",
    "    # Todos los bordes\n",
    "    axes[1].imshow(img if len(img.shape) == 3 else np.stack([img]*3, axis=2))\n",
    "    edges_overlay = np.zeros_like(img, dtype=np.float32)\n",
    "    if len(edges_overlay.shape) == 3:  # RGB\n",
    "        edges_overlay[:, :, 0] = edges  # Rojo para bordes\n",
    "    axes[1].imshow(edges_overlay, alpha=0.7)\n",
    "    axes[1].set_title('Todos los Bordes')\n",
    "    axes[1].axis('off')\n",
    "    \n",
    "    # Bordes internos\n",
    "    axes[2].imshow(img if len(img.shape) == 3 else np.stack([img]*3, axis=2))\n",
    "    inner_overlay = np.zeros_like(img, dtype=np.float32)\n",
    "    if len(inner_overlay.shape) == 3:  # RGB\n",
    "        inner_overlay[:, :, 0] = inner_edges  # Rojo para bordes internos\n",
    "        inner_overlay[:, :, 1] = inner_edges  # Verde para bordes internos = amarillo\n",
    "    axes[2].imshow(inner_overlay, alpha=0.7)\n",
    "    axes[2].set_title('Bordes Internos')\n",
    "    axes[2].axis('off')\n",
    "    \n",
    "    plt.tight_layout()\n",
    "    plt.show()"
   ]
  },
  {
   "cell_type": "markdown",
   "metadata": {},
   "source": [
    "## 4. Generación de Mapas de Peso\n",
    "\n",
    "Creamos mapas de peso para cada muestra y visualizamos cómo enfatizan los bordes y compensan el desbalance."
   ]
  },
  {
   "cell_type": "code",
   "execution_count": null,
   "metadata": {},
   "source": [
    "# Generar y visualizar mapas de peso para cada muestra\n",
    "for sample_id, img, mask in samples:\n",
    "    # Generar mapa de peso\n",
    "    weight_map = generate_weight_map(mask, w0=10, sigma=5)\n",
    "    \n",
    "    # Estadísticas del mapa de peso\n",
    "    print(f\"Muestra {sample_id}:\")\n",
    "    print(f\"  - Valor mínimo del mapa: {weight_map.min():.4f}\")\n",
    "    print(f\"  - Valor máximo del mapa: {weight_map.max():.4f}\")\n",
    "    print(f\"  - Valor medio del mapa: {weight_map.mean():.4f}\")\n",
    "    \n",
    "    # Visualizar usando nuestra función\n",
    "    _ = visualize_weight_map(img, mask, weight_map, show_edges=True)"
   ]
  },
  {
   "cell_type": "markdown",
   "metadata": {},
   "source": [
    "## 5. Análisis de Efectividad del Mapa de Pesos\n",
    "\n",
    "Analizamos cómo los mapas de peso enfatizan las regiones críticas (bordes internos) y compensan el desbalance."
   ]
  },
  {
   "cell_type": "code",
   "execution_count": null,
   "metadata": {},
   "source": [
    "# Analizar la eficacia del mapa de peso para cada muestra\n",
    "for sample_id, img, mask in samples:\n",
    "    # Normalizar máscara\n",
    "    mask_binary = mask.copy()\n",
    "    if mask_binary.max() > 1:\n",
    "        mask_binary = mask_binary / 255\n",
    "    \n",
    "    # Detectar bordes internos\n",
    "    inner_edges = detect_inner_edges(mask_binary)\n",
    "    \n",
    "    # Generar mapa de peso\n",
    "    weight_map = generate_weight_map(mask, w0=10, sigma=5)\n",
    "    \n",
    "    # Calcular peso medio en diferentes regiones\n",
    "    foreground_mean = weight_map[mask_binary > 0].mean() if (mask_binary > 0).sum() > 0 else 0\n",
    "    background_mean = weight_map[mask_binary == 0].mean() if (mask_binary == 0).sum() > 0 else 0\n",
    "    edge_mean = weight_map[inner_edges > 0].mean() if (inner_edges > 0).sum() > 0 else 0\n",
    "    \n",
    "    print(f\"Muestra {sample_id}:\")\n",
    "    print(f\"  - Peso medio en núcleos: {foreground_mean:.4f}\")\n",
    "    print(f\"  - Peso medio en fondo: {background_mean:.4f}\")\n",
    "    print(f\"  - Peso medio en bordes internos: {edge_mean:.4f}\")\n",
    "    print(f\"  - Relación peso bordes/fondo: {edge_mean/background_mean:.2f}x\")\n",
    "    print(f\"  - Relación peso núcleos/fondo: {foreground_mean/background_mean:.2f}x\")\n",
    "    \n",
    "    # Visualización de histograma de valores de peso\n",
    "    plt.figure(figsize=(10, 6))\n",
    "    \n",
    "    # Histograma para cada región\n",
    "    if (mask_binary > 0).sum() > 0:\n",
    "        plt.hist(weight_map[mask_binary > 0].flatten(), bins=50, alpha=0.5, label='Núcleos')\n",
    "    if (mask_binary == 0).sum() > 0:\n",
    "        plt.hist(weight_map[mask_binary == 0].flatten(), bins=50, alpha=0.5, label='Fondo')\n",
    "    if (inner_edges > 0).sum() > 0:\n",
    "        plt.hist(weight_map[inner_edges > 0].flatten(), bins=50, alpha=0.5, label='Bordes internos')\n",
    "        \n",
    "    plt.title(f'Distribución de valores de peso - Muestra {sample_id}')\n",
    "    plt.xlabel('Valor de peso')\n",
    "    plt.ylabel('Frecuencia')\n",
    "    plt.legend()\n",
    "    plt.grid(alpha=0.3)\n",
    "    plt.show()"
   ]
  },
  {
   "cell_type": "markdown",
   "metadata": {},
   "source": [
    "## 6. Ajuste de Parámetros para Mapas de Peso\n",
    "\n",
    "Experimentamos con diferentes valores de parámetros para optimizar los mapas de peso."
   ]
  },
  {
   "cell_type": "code",
   "execution_count": null,
   "metadata": {},
   "source": [
    "# Probar diferentes parámetros w0 y sigma\n",
    "# Tomamos una muestra para experimentar\n",
    "if len(samples) > 0:\n",
    "    sample_id, img, mask = samples[0]  # Usamos la primera muestra\n",
    "    \n",
    "    # Valores de parámetros a probar\n",
    "    w0_values = [5, 10, 20]\n",
    "    sigma_values = [3, 5, 10]\n",
    "    \n",
    "    # Crear grid de visualización\n",
    "    fig, axes = plt.subplots(len(w0_values), len(sigma_values), figsize=(15, 12))\n",
    "    \n",
    "    for i, w0 in enumerate(w0_values):\n",
    "        for j, sigma in enumerate(sigma_values):\n",
    "            # Generar mapa de peso con estos parámetros\n",
    "            weight_map = generate_weight_map(mask, w0=w0, sigma=sigma)\n",
    "            \n",
    "            # Visualizar\n",
    "            im = axes[i, j].imshow(weight_map, cmap='viridis')\n",
    "            axes[i, j].set_title(f'w0={w0}, sigma={sigma}')\n",
    "            axes[i, j].axis('off')\n",
    "            plt.colorbar(im, ax=axes[i, j], fraction=0.046, pad=0.04)\n",
    "    \n",
    "    plt.suptitle(f'Efecto de parámetros w0 y sigma en el mapa de peso - Muestra {sample_id}')\n",
    "    plt.tight_layout()\n",
    "    plt.show()"
   ]
  },
  {
   "cell_type": "markdown",
   "metadata": {},
   "source": [
    "## 7. Conclusiones\n",
    "\n",
    "Los mapas de peso generados cumplen dos funciones principales:\n",
    "\n",
    "1. **Enfatizar bordes**: Asignando mayor peso a los píxeles cercanos a los bordes, especialmente los bordes internos entre núcleos adyacentes, guiamos al modelo a prestar especial atención a estas regiones críticas durante el entrenamiento.\n",
    "\n",
    "2. **Compensar desbalance de clases**: Asignando un factor de peso mayor a los píxeles de núcleo (clase minoritaria) en relación a los píxeles de fondo, contrarrestamos el sesgo que podría tener el modelo hacia la clase mayoritaria.\n",
    "\n",
    "Estos mapas de peso se integrarán en la función de pérdida durante el entrenamiento para mejorar la precisión de la segmentación, especialmente en los límites entre núcleos adyacentes."
   ]
  }
 ],
 "metadata": {
  "kernelspec": {
   "display_name": "Python 3",
   "language": "python",
   "name": "python3"
  },
  "language_info": {
   "codemirror_mode": {
    "name": "ipython",
    "version": 3
   },
   "file_extension": ".py",
   "mimetype": "text/x-python",
   "name": "python",
   "nbconvert_exporter": "python",
   "pygments_lexer": "ipython3",
   "version": "3.8.10"
  }
 },
 "nbformat": 4,
 "nbformat_minor": 4
}
