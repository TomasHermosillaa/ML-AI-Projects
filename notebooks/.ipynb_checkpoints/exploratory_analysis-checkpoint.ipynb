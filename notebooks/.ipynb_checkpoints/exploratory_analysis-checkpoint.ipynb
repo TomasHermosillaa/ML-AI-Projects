{
 "cells": [
  {
   "cell_type": "code",
   "execution_count": null,
   "id": "a6946eff",
   "metadata": {},
   "outputs": [],
   "source": [
    "\"\"\"\n",
    "# Análisis Exploratorio Visual - Dataset de Segmentación de Núcleos\n",
    "## Proyecto de Segmentación de Núcleos Celulares\n",
    "\n",
    "Este notebook realiza un análisis exploratorio visual detallado del dataset de segmentación \n",
    "de núcleos celulares, enfocándose en:\n",
    "\n",
    "1. Visualización de imágenes y máscaras\n",
    "2. Análisis de propiedades estadísticas\n",
    "3. Identificación de casos desafiantes\n",
    "4. Evaluación de variabilidad en el dataset\n",
    "\n",
    "Autor: Tomy\n",
    "Fecha: Agosto 2025\n",
    "\"\"\""
   ]
  },
  {
   "cell_type": "markdown",
   "id": "0792a443",
   "metadata": {},
   "source": [
    "## 1. Configuración y Carga de Dependencias"
   ]
  },
  {
   "cell_type": "code",
   "execution_count": null,
   "id": "df8e4f06",
   "metadata": {
    "lines_to_next_cell": 1
   },
   "outputs": [],
   "source": [
    "import os\n",
    "import numpy as np\n",
    "import pandas as pd\n",
    "import matplotlib.pyplot as plt\n",
    "import cv2\n",
    "from pathlib import Path\n",
    "from collections import Counter, defaultdict\n",
    "import random\n",
    "from tqdm import tqdm\n",
    "import seaborn as sns\n",
    "from skimage import measure\n",
    "from scipy import ndimage\n",
    "\n",
    "# Configuración de visualización\n",
    "plt.rcParams['figure.figsize'] = (12, 8)\n",
    "plt.style.use('seaborn-v0_8-whitegrid')\n",
    "\n",
    "# Directorio de datos\n",
    "DATA_DIR = Path('../data')"
   ]
  },
  {
   "cell_type": "markdown",
   "id": "efe9ff1b",
   "metadata": {},
   "source": [
    "## 2. Funciones Auxiliares para Carga y Visualización"
   ]
  },
  {
   "cell_type": "code",
   "execution_count": null,
   "id": "2c8bb6ba",
   "metadata": {
    "lines_to_next_cell": 1
   },
   "outputs": [],
   "source": [
    "def load_sample(sample_dir):\n",
    "    \"\"\"\n",
    "    Carga una muestra (imagen + máscara) de un directorio específico.\n",
    "    \n",
    "    Args:\n",
    "        sample_dir (Path): Directorio que contiene image.png y mask.png\n",
    "        \n",
    "    Returns:\n",
    "        dict: Diccionario con imagen y máscara cargadas, además de metadatos\n",
    "    \"\"\"\n",
    "    image_path = sample_dir / \"image.png\"\n",
    "    mask_path = sample_dir / \"mask.png\"\n",
    "    \n",
    "    if not (image_path.exists() and mask_path.exists()):\n",
    "        return None\n",
    "    \n",
    "    # Cargar imagen y convertir a RGB\n",
    "    image = cv2.imread(str(image_path))\n",
    "    image = cv2.cvtColor(image, cv2.COLOR_BGR2RGB)\n",
    "    \n",
    "    # Cargar máscara binaria\n",
    "    mask = cv2.imread(str(mask_path), cv2.IMREAD_GRAYSCALE)\n",
    "    \n",
    "    # Binarizar máscara (por si acaso valores no son exactamente 0 y 255)\n",
    "    _, mask_binary = cv2.threshold(mask, 127, 255, cv2.THRESH_BINARY)\n",
    "    \n",
    "    # Contar núcleos (componentes conectados)\n",
    "    num_labels, labels = cv2.connectedComponents(mask_binary)\n",
    "    num_nuclei = num_labels - 1  # Restamos 1 para excluir el fondo\n",
    "    \n",
    "    return {\n",
    "        'sample_id': sample_dir.name,\n",
    "        'image': image,\n",
    "        'mask': mask_binary,\n",
    "        'num_nuclei': num_nuclei,\n",
    "        'image_height': image.shape[0],\n",
    "        'image_width': image.shape[1],\n",
    "        'mask_foreground_ratio': np.sum(mask_binary > 0) / mask_binary.size,\n",
    "        'mask_unique_values': np.unique(mask_binary)\n",
    "    }\n",
    "\n",
    "def get_random_samples(num_samples=5, seed=42):\n",
    "    \"\"\"\n",
    "    Selecciona muestras aleatorias del dataset.\n",
    "    \n",
    "    Args:\n",
    "        num_samples (int): Número de muestras a seleccionar\n",
    "        seed (int): Semilla para reproducibilidad\n",
    "        \n",
    "    Returns:\n",
    "        list: Lista de directorios de muestras seleccionadas\n",
    "    \"\"\"\n",
    "    random.seed(seed)\n",
    "    sample_dirs = [d for d in DATA_DIR.iterdir() if d.is_dir() and d.name.isdigit()]\n",
    "    return random.sample(sample_dirs, min(num_samples, len(sample_dirs)))\n",
    "\n",
    "def find_edge_cases(num_samples=200, return_top=5):\n",
    "    \"\"\"\n",
    "    Encuentra casos extremos en el dataset basados en diferentes criterios.\n",
    "    \n",
    "    Args:\n",
    "        num_samples (int): Número de muestras a analizar\n",
    "        return_top (int): Número de casos extremos a retornar por categoría\n",
    "        \n",
    "    Returns:\n",
    "        dict: Diccionario con casos extremos por categoría\n",
    "    \"\"\"\n",
    "    # Muestrear directorios aleatoriamente\n",
    "    sample_dirs = get_random_samples(num_samples, seed=42)\n",
    "    \n",
    "    # Contenedores para métricas\n",
    "    metrics = {\n",
    "        'most_nuclei': [],     # Muestras con más núcleos\n",
    "        'least_nuclei': [],    # Muestras con menos núcleos\n",
    "        'highest_density': [], # Mayor proporción de área ocupada por núcleos\n",
    "        'lowest_density': [],  # Menor proporción de área ocupada por núcleos\n",
    "        'small_nuclei': [],    # Muestras con núcleos muy pequeños\n",
    "        'touching_nuclei': [], # Muestras con núcleos que se tocan\n",
    "        'varied_brightness': [] # Muestras con alta variación de brillo\n",
    "    }\n",
    "    \n",
    "    print(f\"Analizando {len(sample_dirs)} muestras para encontrar casos extremos...\")\n",
    "    \n",
    "    for sample_dir in tqdm(sample_dirs):\n",
    "        sample = load_sample(sample_dir)\n",
    "        if sample is None:\n",
    "            continue\n",
    "            \n",
    "        # Métricas básicas\n",
    "        metrics['most_nuclei'].append((sample_dir, sample['num_nuclei']))\n",
    "        metrics['least_nuclei'].append((sample_dir, sample['num_nuclei']))\n",
    "        metrics['highest_density'].append((sample_dir, sample['mask_foreground_ratio']))\n",
    "        metrics['lowest_density'].append((sample_dir, sample['mask_foreground_ratio']))\n",
    "        \n",
    "        # Análisis de componentes para encontrar núcleos pequeños\n",
    "        labels, num = ndimage.label(sample['mask'])\n",
    "        if num > 0:\n",
    "            sizes = ndimage.sum(sample['mask'], labels, range(1, num + 1))\n",
    "            smallest_size = np.min(sizes) if len(sizes) > 0 else float('inf')\n",
    "            metrics['small_nuclei'].append((sample_dir, smallest_size))\n",
    "            \n",
    "            # Detectar núcleos que potencialmente se tocan\n",
    "            mask_dilated = cv2.dilate(sample['mask'], np.ones((5,5), np.uint8), iterations=1)\n",
    "            touching_score = np.sum(mask_dilated) / np.sum(sample['mask']) - 1\n",
    "            metrics['touching_nuclei'].append((sample_dir, touching_score))\n",
    "        \n",
    "        # Variabilidad de brillo en la imagen\n",
    "        gray = cv2.cvtColor(sample['image'], cv2.COLOR_RGB2GRAY)\n",
    "        brightness_std = np.std(gray)\n",
    "        metrics['varied_brightness'].append((sample_dir, brightness_std))\n",
    "    \n",
    "    # Encontrar los casos extremos\n",
    "    edge_cases = {}\n",
    "    edge_cases['most_nuclei'] = sorted(metrics['most_nuclei'], key=lambda x: x[1], reverse=True)[:return_top]\n",
    "    edge_cases['least_nuclei'] = sorted(metrics['least_nuclei'], key=lambda x: x[1])[:return_top]\n",
    "    edge_cases['highest_density'] = sorted(metrics['highest_density'], key=lambda x: x[1], reverse=True)[:return_top]\n",
    "    edge_cases['lowest_density'] = sorted(metrics['lowest_density'], key=lambda x: x[1])[:return_top]\n",
    "    edge_cases['small_nuclei'] = sorted(metrics['small_nuclei'], key=lambda x: x[1])[:return_top]\n",
    "    edge_cases['touching_nuclei'] = sorted(metrics['touching_nuclei'], key=lambda x: x[1], reverse=True)[:return_top]\n",
    "    edge_cases['varied_brightness'] = sorted(metrics['varied_brightness'], key=lambda x: x[1], reverse=True)[:return_top]\n",
    "    \n",
    "    return edge_cases"
   ]
  },
  {
   "cell_type": "markdown",
   "id": "f21531be",
   "metadata": {},
   "source": [
    "## 3. Visualización de Muestras Representativas"
   ]
  },
  {
   "cell_type": "code",
   "execution_count": null,
   "id": "b2faf86a",
   "metadata": {
    "lines_to_next_cell": 1
   },
   "outputs": [],
   "source": [
    "def visualize_samples(sample_dirs, title=\"Muestras del Dataset\"):\n",
    "    \"\"\"\n",
    "    Visualiza múltiples muestras del dataset con sus máscaras y contornos.\n",
    "    \n",
    "    Args:\n",
    "        sample_dirs (list): Lista de directorios de muestras a visualizar\n",
    "        title (str): Título para la figura\n",
    "    \"\"\"\n",
    "    n_samples = len(sample_dirs)\n",
    "    fig, axes = plt.subplots(n_samples, 3, figsize=(15, 5*n_samples))\n",
    "    \n",
    "    if n_samples == 1:\n",
    "        axes = axes.reshape(1, -1)\n",
    "    \n",
    "    for i, sample_dir in enumerate(sample_dirs):\n",
    "        sample = load_sample(sample_dir)\n",
    "        if sample is None:\n",
    "            continue\n",
    "        \n",
    "        # Imagen original\n",
    "        axes[i, 0].imshow(sample['image'])\n",
    "        axes[i, 0].set_title(f\"Imagen Original\\n{sample_dir.name}\")\n",
    "        axes[i, 0].axis('off')\n",
    "        \n",
    "        # Máscara binaria\n",
    "        axes[i, 1].imshow(sample['mask'], cmap='gray')\n",
    "        axes[i, 1].set_title(f\"Máscara Binaria\\n{sample['num_nuclei']} núcleos\")\n",
    "        axes[i, 1].axis('off')\n",
    "        \n",
    "        # Superposición con contornos para ver bordes\n",
    "        overlay = sample['image'].copy()\n",
    "        \n",
    "        # Encontrar contornos en la máscara\n",
    "        contours, _ = cv2.findContours(\n",
    "            sample['mask'], cv2.RETR_EXTERNAL, cv2.CHAIN_APPROX_SIMPLE\n",
    "        )\n",
    "        \n",
    "        # Dibujar contornos en la imagen original\n",
    "        cv2.drawContours(overlay, contours, -1, (0, 255, 0), 2)\n",
    "        \n",
    "        axes[i, 2].imshow(overlay)\n",
    "        axes[i, 2].set_title(\"Imagen con Contornos\")\n",
    "        axes[i, 2].axis('off')\n",
    "    \n",
    "    plt.suptitle(title, fontsize=16, y=0.92)\n",
    "    plt.tight_layout()\n",
    "    plt.show()"
   ]
  },
  {
   "cell_type": "markdown",
   "id": "aeff07b6",
   "metadata": {},
   "source": [
    "### 3.1 Visualización de Muestras Aleatorias"
   ]
  },
  {
   "cell_type": "code",
   "execution_count": null,
   "id": "9cb5761d",
   "metadata": {
    "lines_to_next_cell": 1
   },
   "outputs": [],
   "source": [
    "# Obtener y visualizar muestras aleatorias\n",
    "random_samples = get_random_samples(5)\n",
    "visualize_samples(random_samples, \"Muestras Aleatorias del Dataset\")"
   ]
  },
  {
   "cell_type": "markdown",
   "id": "f97565e1",
   "metadata": {},
   "source": [
    "## 4. Análisis de Estadísticas del Dataset"
   ]
  },
  {
   "cell_type": "code",
   "execution_count": null,
   "id": "d8af7681",
   "metadata": {
    "lines_to_next_cell": 1
   },
   "outputs": [],
   "source": [
    "def compute_dataset_statistics(num_samples=200):\n",
    "    \"\"\"\n",
    "    Calcula estadísticas descriptivas del dataset.\n",
    "    \n",
    "    Args:\n",
    "        num_samples (int): Número de muestras a analizar\n",
    "        \n",
    "    Returns:\n",
    "        pd.DataFrame: DataFrame con estadísticas por muestra\n",
    "    \"\"\"\n",
    "    # Muestrear directorios aleatoriamente\n",
    "    sample_dirs = get_random_samples(num_samples, seed=123)\n",
    "    \n",
    "    stats_list = []\n",
    "    for sample_dir in tqdm(sample_dirs):\n",
    "        sample = load_sample(sample_dir)\n",
    "        if sample is None:\n",
    "            continue\n",
    "            \n",
    "        # Análisis de componentes para estadísticas de núcleos\n",
    "        labels, num_components = ndimage.label(sample['mask'])\n",
    "        \n",
    "        if num_components > 0:\n",
    "            sizes = ndimage.sum(sample['mask'] > 0, labels, range(1, num_components + 1))\n",
    "            \n",
    "            stats = {\n",
    "                'sample_id': sample_dir.name,\n",
    "                'num_nuclei': num_components,\n",
    "                'foreground_ratio': sample['mask_foreground_ratio'],\n",
    "                'avg_nucleus_size': np.mean(sizes),\n",
    "                'min_nucleus_size': np.min(sizes),\n",
    "                'max_nucleus_size': np.max(sizes),\n",
    "                'std_nucleus_size': np.std(sizes),\n",
    "            }\n",
    "            \n",
    "            # Análisis de brillo y contraste en imagen original\n",
    "            gray = cv2.cvtColor(sample['image'], cv2.COLOR_RGB2GRAY)\n",
    "            stats['image_mean_intensity'] = np.mean(gray)\n",
    "            stats['image_std_intensity'] = np.std(gray)\n",
    "            \n",
    "            stats_list.append(stats)\n",
    "    \n",
    "    return pd.DataFrame(stats_list)"
   ]
  },
  {
   "cell_type": "code",
   "execution_count": null,
   "id": "44bd3aca",
   "metadata": {},
   "outputs": [],
   "source": [
    "# Calcular estadísticas de una muestra del dataset\n",
    "df_stats = compute_dataset_statistics(200)\n",
    "\n",
    "# Mostrar resumen estadístico\n",
    "print(\"Estadísticas Descriptivas del Dataset:\")\n",
    "print(df_stats.describe())"
   ]
  },
  {
   "cell_type": "markdown",
   "id": "ca0f74e4",
   "metadata": {},
   "source": [
    "### 4.1 Visualización de Distribuciones Estadísticas"
   ]
  },
  {
   "cell_type": "code",
   "execution_count": null,
   "id": "50ab68c2",
   "metadata": {},
   "outputs": [],
   "source": [
    "# Configurar figura para múltiples gráficos\n",
    "fig, axes = plt.subplots(2, 2, figsize=(15, 12))\n",
    "\n",
    "# Distribución del número de núcleos por imagen\n",
    "sns.histplot(df_stats['num_nuclei'], kde=True, ax=axes[0, 0])\n",
    "axes[0, 0].set_title('Distribución del Número de Núcleos por Imagen')\n",
    "axes[0, 0].set_xlabel('Número de Núcleos')\n",
    "axes[0, 0].set_ylabel('Frecuencia')\n",
    "\n",
    "# Distribución del porcentaje de píxeles de primer plano\n",
    "sns.histplot(df_stats['foreground_ratio']*100, kde=True, ax=axes[0, 1])\n",
    "axes[0, 1].set_title('Distribución del % de Píxeles de Primer Plano')\n",
    "axes[0, 1].set_xlabel('% de Píxeles (Núcleos)')\n",
    "axes[0, 1].set_ylabel('Frecuencia')\n",
    "\n",
    "# Distribución del tamaño promedio de núcleos\n",
    "sns.histplot(df_stats['avg_nucleus_size'], kde=True, ax=axes[1, 0])\n",
    "axes[1, 0].set_title('Distribución del Tamaño Promedio de Núcleos')\n",
    "axes[1, 0].set_xlabel('Tamaño Promedio (píxeles)')\n",
    "axes[1, 0].set_ylabel('Frecuencia')\n",
    "\n",
    "# Relación entre número de núcleos y proporción de primer plano\n",
    "sns.scatterplot(x='num_nuclei', y='foreground_ratio', data=df_stats, ax=axes[1, 1])\n",
    "axes[1, 1].set_title('Relación: Número de Núcleos vs % Primer Plano')\n",
    "axes[1, 1].set_xlabel('Número de Núcleos')\n",
    "axes[1, 1].set_ylabel('Proporción de Primer Plano')\n",
    "\n",
    "plt.tight_layout()\n",
    "plt.suptitle('Análisis Estadístico del Dataset', fontsize=16, y=0.98)\n",
    "plt.subplots_adjust(top=0.92)\n",
    "plt.show()"
   ]
  },
  {
   "cell_type": "markdown",
   "id": "9f066cac",
   "metadata": {},
   "source": [
    "## 5. Identificación de Casos Desafiantes"
   ]
  },
  {
   "cell_type": "code",
   "execution_count": null,
   "id": "04544490",
   "metadata": {},
   "outputs": [],
   "source": [
    "# Encontrar casos extremos en el dataset\n",
    "edge_cases = find_edge_cases(num_samples=200, return_top=3)"
   ]
  },
  {
   "cell_type": "markdown",
   "id": "a8a86433",
   "metadata": {},
   "source": [
    "### 5.1 Imágenes con Mayor Número de Núcleos"
   ]
  },
  {
   "cell_type": "code",
   "execution_count": null,
   "id": "7acf0147",
   "metadata": {},
   "outputs": [],
   "source": [
    "visualize_samples([dir_path for dir_path, _ in edge_cases['most_nuclei']],\n",
    "                 \"Imágenes con Mayor Número de Núcleos\")"
   ]
  },
  {
   "cell_type": "markdown",
   "id": "f45f9843",
   "metadata": {},
   "source": [
    "### 5.2 Imágenes con Núcleos Muy Pequeños"
   ]
  },
  {
   "cell_type": "code",
   "execution_count": null,
   "id": "a4bb16be",
   "metadata": {},
   "outputs": [],
   "source": [
    "visualize_samples([dir_path for dir_path, _ in edge_cases['small_nuclei']],\n",
    "                 \"Imágenes con Núcleos Muy Pequeños\")"
   ]
  },
  {
   "cell_type": "markdown",
   "id": "a0afbd86",
   "metadata": {},
   "source": [
    "### 5.3 Imágenes con Núcleos que Probablemente se Tocan"
   ]
  },
  {
   "cell_type": "code",
   "execution_count": null,
   "id": "dc13fd01",
   "metadata": {},
   "outputs": [],
   "source": [
    "visualize_samples([dir_path for dir_path, _ in edge_cases['touching_nuclei']],\n",
    "                 \"Imágenes con Núcleos que se Tocan\")"
   ]
  },
  {
   "cell_type": "markdown",
   "id": "9f9d6177",
   "metadata": {},
   "source": [
    "### 5.4 Imágenes con Alta Variabilidad de Iluminación"
   ]
  },
  {
   "cell_type": "code",
   "execution_count": null,
   "id": "4fedb974",
   "metadata": {
    "lines_to_next_cell": 1
   },
   "outputs": [],
   "source": [
    "visualize_samples([dir_path for dir_path, _ in edge_cases['varied_brightness']],\n",
    "                 \"Imágenes con Alta Variabilidad de Iluminación\")"
   ]
  },
  {
   "cell_type": "markdown",
   "id": "cff6aba6",
   "metadata": {},
   "source": [
    "## 6. Análisis de los Desafíos para el Modelo"
   ]
  },
  {
   "cell_type": "code",
   "execution_count": null,
   "id": "e4d91630",
   "metadata": {
    "lines_to_next_cell": 1
   },
   "outputs": [],
   "source": [
    "def analyze_class_imbalance():\n",
    "    \"\"\"\n",
    "    Analiza el desbalance de clases en el dataset y muestra su impacto\n",
    "    \"\"\"\n",
    "    # Tomar muestras para análisis\n",
    "    sample_dirs = get_random_samples(30, seed=42)\n",
    "    \n",
    "    # Recopilar datos de proporciones de clases\n",
    "    fg_ratios = []\n",
    "    bg_ratios = []\n",
    "    \n",
    "    for sample_dir in tqdm(sample_dirs):\n",
    "        sample = load_sample(sample_dir)\n",
    "        if sample is None:\n",
    "            continue\n",
    "            \n",
    "        fg_ratio = sample['mask_foreground_ratio']\n",
    "        bg_ratio = 1 - fg_ratio\n",
    "        \n",
    "        fg_ratios.append(fg_ratio)\n",
    "        bg_ratios.append(bg_ratio)\n",
    "    \n",
    "    # Promedio de proporciones\n",
    "    avg_fg = np.mean(fg_ratios)\n",
    "    avg_bg = np.mean(bg_ratios)\n",
    "    \n",
    "    # Visualizar el desbalance\n",
    "    plt.figure(figsize=(10, 6))\n",
    "    plt.bar(['Fondo', 'Núcleos'], [avg_bg, avg_fg], color=['skyblue', 'coral'])\n",
    "    plt.title('Proporción Promedio de Píxeles por Clase')\n",
    "    plt.ylabel('Proporción')\n",
    "    plt.grid(axis='y', alpha=0.3)\n",
    "    \n",
    "    # Añadir etiquetas de porcentaje\n",
    "    for i, value in enumerate([avg_bg, avg_fg]):\n",
    "        plt.text(i, value/2, f'{value*100:.1f}%', \n",
    "                 ha='center', va='center', fontsize=12, fontweight='bold', color='black')\n",
    "    \n",
    "    plt.show()\n",
    "    \n",
    "    print(f\"Proporción promedio de píxeles de núcleos: {avg_fg*100:.2f}%\")\n",
    "    print(f\"Proporción promedio de píxeles de fondo: {avg_bg*100:.2f}%\")\n",
    "    print(f\"Relación fondo:núcleos = {avg_bg/avg_fg:.1f}:1\")\n",
    "    print(\"\\nImplicaciones:\")\n",
    "    print(\"- Alta probabilidad de que el modelo prediga todo como fondo\")\n",
    "    print(\"- Necesidad de funciones de pérdida que manejen el desbalance\")\n",
    "    print(\"- Potencial utilidad de mapas de peso para dar importancia a los núcleos\")"
   ]
  },
  {
   "cell_type": "code",
   "execution_count": null,
   "id": "1da6af7b",
   "metadata": {
    "lines_to_next_cell": 1
   },
   "outputs": [],
   "source": [
    "analyze_class_imbalance()"
   ]
  },
  {
   "cell_type": "markdown",
   "id": "2017b849",
   "metadata": {},
   "source": [
    "## 7. Análisis de Bordes entre Núcleos que se Tocan"
   ]
  },
  {
   "cell_type": "code",
   "execution_count": null,
   "id": "873b75f1",
   "metadata": {
    "lines_to_next_cell": 1
   },
   "outputs": [],
   "source": [
    "def analyze_touching_nuclei():\n",
    "    \"\"\"\n",
    "    Analiza y visualiza el desafío específico de núcleos que se tocan\n",
    "    \"\"\"\n",
    "    # Buscar muestra con núcleos que se tocan\n",
    "    edge_cases = find_edge_cases(num_samples=100, return_top=1)\n",
    "    sample_dir = edge_cases['touching_nuclei'][0][0]\n",
    "    \n",
    "    sample = load_sample(sample_dir)\n",
    "    if sample is None:\n",
    "        print(\"No se pudo cargar la muestra\")\n",
    "        return\n",
    "    \n",
    "    # Procesar máscara para identificar núcleos individuales\n",
    "    mask = sample['mask']\n",
    "    \n",
    "    # Encontrar componentes conectados\n",
    "    num_labels, labels = cv2.connectedComponents(mask)\n",
    "    \n",
    "    # Crear máscara dilatada para ver superposiciones\n",
    "    kernel = np.ones((5,5), np.uint8)\n",
    "    mask_dilated = cv2.dilate(mask, kernel, iterations=1)\n",
    "    \n",
    "    # Áreas de posible contacto\n",
    "    touching_areas = mask_dilated & ~mask\n",
    "    \n",
    "    # Visualizar\n",
    "    fig, axes = plt.subplots(2, 2, figsize=(12, 10))\n",
    "    \n",
    "    # Imagen original\n",
    "    axes[0, 0].imshow(sample['image'])\n",
    "    axes[0, 0].set_title('Imagen Original')\n",
    "    axes[0, 0].axis('off')\n",
    "    \n",
    "    # Máscara binaria\n",
    "    axes[0, 1].imshow(mask, cmap='gray')\n",
    "    axes[0, 1].set_title(f'Máscara Binaria ({num_labels-1} núcleos)')\n",
    "    axes[0, 1].axis('off')\n",
    "    \n",
    "    # Núcleos etiquetados con colores diferentes\n",
    "    cmap = plt.cm.tab10(np.linspace(0, 1, num_labels))\n",
    "    colored_labels = np.zeros((*labels.shape, 3))\n",
    "    \n",
    "    for i in range(1, num_labels):\n",
    "        colored_labels[labels == i] = cmap[i][:3]\n",
    "    \n",
    "    axes[1, 0].imshow(colored_labels)\n",
    "    axes[1, 0].set_title('Núcleos Individuales')\n",
    "    axes[1, 0].axis('off')\n",
    "    \n",
    "    # Áreas de contacto potenciales\n",
    "    overlay = sample['image'].copy()\n",
    "    overlay[touching_areas > 0] = [255, 0, 0]  # Marcar en rojo\n",
    "    \n",
    "    axes[1, 1].imshow(overlay)\n",
    "    axes[1, 1].set_title('Áreas de Posible Contacto (Rojo)')\n",
    "    axes[1, 1].axis('off')\n",
    "    \n",
    "    plt.tight_layout()\n",
    "    plt.suptitle('Análisis de Núcleos que se Tocan', fontsize=16, y=0.98)\n",
    "    plt.subplots_adjust(top=0.92)\n",
    "    plt.show()\n",
    "    \n",
    "    print(\"\\nDesafíos para la segmentación de núcleos que se tocan:\")\n",
    "    print(\"- Dificultad para distinguir límites precisos entre núcleos adyacentes\")\n",
    "    print(\"- Importancia de precisión en bordes para segmentación de instancias\")\n",
    "    print(\"- Necesidad de pesos especiales en bordes durante el entrenamiento\")\n",
    "    print(\"- Posible beneficio de técnicas post-procesamiento (watershed, etc.)\")"
   ]
  },
  {
   "cell_type": "code",
   "execution_count": null,
   "id": "0531089d",
   "metadata": {},
   "outputs": [],
   "source": [
    "analyze_touching_nuclei()"
   ]
  },
  {
   "cell_type": "markdown",
   "id": "d688d816",
   "metadata": {},
   "source": [
    "## 8. Síntesis de Hallazgos y Desafíos Identificados"
   ]
  },
  {
   "cell_type": "code",
   "execution_count": null,
   "id": "ccd36922",
   "metadata": {},
   "outputs": [],
   "source": [
    "print(\"SÍNTESIS DE HALLAZGOS DEL ANÁLISIS EXPLORATORIO\")\n",
    "print(\"=\" * 50)\n",
    "print(\"\\n1. CARACTERÍSTICAS DEL DATASET:\")\n",
    "print(\"   - Imágenes RGB de 256x256 píxeles (tamaño constante)\")\n",
    "print(\"   - Máscaras binarias con valores 0 (fondo) y 255 (núcleos)\")\n",
    "print(f\"   - {len(list(DATA_DIR.glob('[0-9]*')))} muestras en total\")\n",
    "\n",
    "print(\"\\n2. DESAFÍOS IDENTIFICADOS:\")\n",
    "print(\"   - Desbalance significativo de clases: ~12% núcleos vs ~88% fondo\")\n",
    "print(\"   - Núcleos que se tocan: difíciles de segmentar correctamente\")\n",
    "print(\"   - Variabilidad de iluminación y contraste entre imágenes\")\n",
    "print(\"   - Tamaños muy variables de núcleos (desde muy pequeños hasta grandes)\")\n",
    "\n",
    "print(\"\\n3. CONSIDERACIONES PARA EL MODELO:\")\n",
    "print(\"   - Necesidad de función de pérdida que maneje el desbalance\")\n",
    "print(\"   - Importancia de precisión en bordes mediante mapas de peso\")\n",
    "print(\"   - Augmentación que considere variaciones de brillo y contraste\")\n",
    "print(\"   - Posible necesidad de post-procesamiento para separar núcleos\")\n",
    "\n",
    "print(\"\\n4. PRÓXIMOS PASOS SUGERIDOS:\")\n",
    "print(\"   - Implementar generación de mapas de peso para bordes críticos\")\n",
    "print(\"   - Crear dataset PyTorch con transformaciones apropiadas\")\n",
    "print(\"   - Diseñar funciones de pérdida balanceadas (Dice + BCE)\")\n",
    "print(\"   - Implementar visualizador de predicciones para validar bordes\")"
   ]
  },
  {
   "cell_type": "markdown",
   "id": "134564c8",
   "metadata": {},
   "source": [
    "## 9. Conclusiones\n",
    "\n",
    "Este análisis exploratorio nos ha permitido comprender en profundidad las características y desafíos del dataset de segmentación de núcleos:\n",
    "\n",
    "1. **Estructura del dataset**: El dataset consiste en 2,224 imágenes RGB de 256x256 píxeles con sus correspondientes máscaras binarias.\n",
    "\n",
    "2. **Desbalance de clases**: Aproximadamente el 88% de los píxeles corresponden al fondo y solo el 12% a núcleos, lo que representa un desafío para el entrenamiento.\n",
    "\n",
    "3. **Casos desafiantes**:\n",
    "   - Imágenes con núcleos muy pequeños que podrían perderse durante la segmentación\n",
    "   - Núcleos que se tocan, difíciles de separar correctamente\n",
    "   - Variabilidad en iluminación y contraste entre muestras\n",
    "\n",
    "4. **Estrategias recomendadas**:\n",
    "   - Crear mapas de peso que enfaticen los bordes entre núcleos\n",
    "   - Utilizar funciones de pérdida que manejen el desbalance (Dice+BCE)\n",
    "   - Implementar técnicas de post-procesamiento para separar núcleos adyacentes\n",
    "\n",
    "Los hallazgos de este análisis serán fundamentales para diseñar la arquitectura del modelo, la función de pérdida y las técnicas de preprocesamiento y post-procesamiento necesarias para una segmentación precisa de los núcleos celulares.\n",
    "\"\"\""
   ]
  }
 ],
 "metadata": {
  "jupytext": {
   "cell_metadata_filter": "-all",
   "encoding": "# -*- coding: utf-8 -*-",
   "executable": "/usr/bin/env python3",
   "main_language": "python",
   "notebook_metadata_filter": "-all"
  }
 },
 "nbformat": 4,
 "nbformat_minor": 5
}
